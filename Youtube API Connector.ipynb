{
 "cells": [
  {
   "cell_type": "code",
   "execution_count": 2,
   "metadata": {},
   "outputs": [
    {
     "name": "stdout",
     "output_type": "stream",
     "text": [
      "Collecting wxPython\n",
      "  Downloading wxPython-4.1.1-cp38-cp38-win_amd64.whl (18.1 MB)\n",
      "Requirement already satisfied: pillow in c:\\programdata\\anaconda3\\lib\\site-packages (from wxPython) (8.2.0)\n",
      "Requirement already satisfied: numpy in c:\\programdata\\anaconda3\\lib\\site-packages (from wxPython) (1.20.1)\n",
      "Requirement already satisfied: six in c:\\programdata\\anaconda3\\lib\\site-packages (from wxPython) (1.15.0)\n",
      "Installing collected packages: wxPython\n",
      "Successfully installed wxPython-4.1.1\n",
      "Note: you may need to restart the kernel to use updated packages.\n"
     ]
    }
   ],
   "source": [
    "pip install -U wxPython"
   ]
  },
  {
   "cell_type": "code",
   "execution_count": 3,
   "metadata": {},
   "outputs": [],
   "source": [
    "import requests\n",
    "import pandas as pd\n",
    "import wx"
   ]
  },
  {
   "cell_type": "code",
   "execution_count": 4,
   "metadata": {},
   "outputs": [],
   "source": [
    "#CREATING THE USER INTERFACE\n",
    "\n",
    "class AppWindow(wx.Frame):    \n",
    "    def __init__(self):\n",
    "        super().__init__(parent=None, title='Youtube Analysis')\n",
    "        panel = wx.Panel(self)\n",
    "        self.allVideos = pd.DataFrame(columns = [\"ID\", \"Title\", \"Upload Date\", \"Count of Views\", \"Count of Likes\"])\n",
    "        \n",
    "        #User input\n",
    "        my_sizer = wx.BoxSizer(wx.VERTICAL) \n",
    "        self.text_ctrl = wx.TextCtrl(panel)\n",
    "        my_sizer.Add(self.text_ctrl, 0, wx.ALL | wx.EXPAND, 5)\n",
    "        panel.SetSizer(my_sizer)\n",
    "        \n",
    "        #Buttons\n",
    "        top10Videos = wx.Button(panel, label='Top 10 videos', pos=(5, 55))\n",
    "        top10Videos.Bind(wx.EVT_BUTTON, self.get_channel)\n",
    "        videoStats = wx.Button(panel, label='Statistics',pos=(100,55))\n",
    "        \n",
    "        self.Show()\n",
    "        \n",
    "    #Capture the user input\n",
    "    def get_channel(self, event):\n",
    "        UserInput = self.text_ctrl.GetValue()\n",
    "        \n",
    "        if not UserInput:\n",
    "            print(\"Please enter a valid channel or video URL\")\n",
    "        #Capture the channel from the URL\n",
    "        else:\n",
    "             if '/channel/' in UserInput:\n",
    "                Channel = UserInput.split('/channel/')[1]\n",
    "                ChannelAPIConnection.create_dataframe(self,Channel)\n",
    "                return self.allVideos\n",
    "                print('hi')\n",
    "                \n",
    "             elif '/c/' in UserInput:\n",
    "                Channel = UserInput.split('/c/')[1]\n",
    "                TopVideos = ChannelAPIConnection(Channel)\n",
    "                #AllVideos\n",
    "             else:\n",
    "                print(\"This is not a valid channel URL\")"
   ]
  },
  {
   "cell_type": "code",
   "execution_count": 5,
   "metadata": {},
   "outputs": [
    {
     "name": "stdout",
     "output_type": "stream",
     "text": [
      "end of line\n"
     ]
    }
   ],
   "source": [
    "#MAKING THE API CONNECTION\n",
    "\n",
    "class ChannelAPIConnection(AppWindow):\n",
    "    try:\n",
    "        def create_dataframe(self,Channel):\n",
    "        \n",
    "            API_KEY = \"API_KEY\"\n",
    "            urlChannel = \"https://www.googleapis.com/youtube/v3/search?key=\"+API_KEY+\"&channelId=\"+Channel+\"&part=snippet,id&order=date&maxResults=10000\"\n",
    "            response = requests.get(urlChannel).json()\n",
    "        \n",
    "        #Collect the info for the dataframe\n",
    "        #Loop through all videos of the channel\n",
    "        \n",
    "            for video in response['items']:\n",
    "                if video['id']['kind'] == 'youtube#video':\n",
    "                    #Collecting basic info of the video\n",
    "                    videoId = video['id']['videoId']\n",
    "                    videoTitle = str(video['snippet']['title'])\n",
    "                    videoUploadDate = str(video['snippet']['publishTime']).split('T')[0]\n",
    "        \n",
    "                    #Collecting statistics info of the video\n",
    "                    urlStats = \"https://www.googleapis.com/youtube/v3/videos?id=\"+videoId+\"&part=statistics&key=\"+API_KEY\n",
    "                    response_videoStats = requests.get(urlStats).json()\n",
    "                    videoViewCount = response_videoStats['items'][0]['statistics']['viewCount']\n",
    "                    videoLikes = response_videoStats['items'][0]['statistics']['likeCount']\n",
    "                    #videoComments = response_videoStats['items'][0]['statistics']['commentCount']\n",
    "        \n",
    "                    #Append the info collected for each video into a dataframe\n",
    "                allVideos = self.allVideos.append({\"ID\":videoId, \"Title\":videoTitle,\"Upload Date\":videoUploadDate,\"Count of Views\":videoViewCount, \"Count of Likes\":videoLikes}, ignore_index=True)\n",
    "                    #test='hi'\n",
    "            return allVideos\n",
    "    except:\n",
    "            print(\"There was an error!\")\n",
    "    finally:\n",
    "            print('end of line')"
   ]
  },
  {
   "cell_type": "code",
   "execution_count": null,
   "metadata": {},
   "outputs": [],
   "source": [
    "if __name__ == '__main__':\n",
    "    app = wx.App()\n",
    "    frame = AppWindow()\n",
    "    app.MainLoop()"
   ]
  },
  {
   "cell_type": "code",
   "execution_count": null,
   "metadata": {},
   "outputs": [],
   "source": [
    "ChannelAPIConnection.create_dataframe(ChannelAPIConnection,'Youtube_Channel_ID')"
   ]
  }
 ],
 "metadata": {
  "kernelspec": {
   "display_name": "Python 3 (ipykernel)",
   "language": "python",
   "name": "python3"
  },
  "language_info": {
   "codemirror_mode": {
    "name": "ipython",
    "version": 3
   },
   "file_extension": ".py",
   "mimetype": "text/x-python",
   "name": "python",
   "nbconvert_exporter": "python",
   "pygments_lexer": "ipython3",
   "version": "3.9.12"
  }
 },
 "nbformat": 4,
 "nbformat_minor": 4
}
